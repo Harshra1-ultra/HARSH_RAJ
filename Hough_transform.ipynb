{
  "nbformat": 4,
  "nbformat_minor": 0,
  "metadata": {
    "colab": {
      "name": "Hough transform.ipynb",
      "provenance": [],
      "authorship_tag": "ABX9TyOPBAZE7nXSFlVIqUl397/m",
      "include_colab_link": true
    },
    "kernelspec": {
      "name": "python3",
      "display_name": "Python 3"
    },
    "language_info": {
      "name": "python"
    }
  },
  "cells": [
    {
      "cell_type": "markdown",
      "metadata": {
        "id": "view-in-github",
        "colab_type": "text"
      },
      "source": [
        "<a href=\"https://colab.research.google.com/github/Harshra1-ultra/HARSH_RAJ/blob/main/Hough_transform.ipynb\" target=\"_parent\"><img src=\"https://colab.research.google.com/assets/colab-badge.svg\" alt=\"Open In Colab\"/></a>"
      ]
    },
    {
      "cell_type": "code",
      "metadata": {
        "colab": {
          "base_uri": "https://localhost:8080/"
        },
        "id": "okX-Zm3_2H1H",
        "outputId": "7ef5d3f8-e4a5-4ac8-df0f-87a38d44a5fa"
      },
      "source": [
        "# Python program to illustrate HoughLine\n",
        "# method for line detection\n",
        "import cv2\n",
        "import numpy as np\n",
        "import matplotlib as plt \n",
        "\n",
        "# Reading the required image in\n",
        "# which operations are to be done.\n",
        "# Make sure that the image is in the same\n",
        "# directory in which this python program is\n",
        "img = cv2.imread('/content/image.jpg')\n",
        "\n",
        "# Convert the img to grayscale\n",
        "gray = cv2.cvtColor(img,cv2.COLOR_BGR2GRAY)\n",
        "\n",
        "# Apply edge detection method on the image\n",
        "edges = cv2.Canny(gray,50,150,apertureSize = 3)\n",
        "\n",
        "# This returns an array of r and theta values\n",
        "lines = cv2.HoughLines(edges,1,np.pi/180, 200)\n",
        "\n",
        "# The below for loop runs till r and theta values\n",
        "# are in the range of the 2d array\n",
        "for r,theta in lines[0]:\n",
        "\t\n",
        "\t# Stores the value of cos(theta) in a\n",
        "\ta = np.cos(theta)\n",
        "\n",
        "\t# Stores the value of sin(theta) in b\n",
        "\tb = np.sin(theta)\n",
        "\t\n",
        "\t# x0 stores the value rcos(theta)\n",
        "\tx0 = a*r\n",
        "\t\n",
        "\t# y0 stores the value rsin(theta)\n",
        "\ty0 = b*r\n",
        "\t\n",
        "\t# x1 stores the rounded off value of (rcos(theta)-1000sin(theta))\n",
        "\tx1 = int(x0 + 1000*(-b))\n",
        "\t\n",
        "\t# y1 stores the rounded off value of (rsin(theta)+1000cos(theta))\n",
        "\ty1 = int(y0 + 1000*(a))\n",
        "\n",
        "\t# x2 stores the rounded off value of (rcos(theta)+1000sin(theta))\n",
        "\tx2 = int(x0 - 1000*(-b))\n",
        "\t\n",
        "\t# y2 stores the rounded off value of (rsin(theta)-1000cos(theta))\n",
        "\ty2 = int(y0 - 1000*(a))\n",
        "\t\n",
        "\t# cv2.line draws a line in img from the point(x1,y1) to (x2,y2).\n",
        "\t# (0,0,255) denotes the colour of the line to be\n",
        "\t#drawn. In this case, it is red.\n",
        "\tcv2.line(img,(x1,y1), (x2,y2), (0,0,255),2)\n",
        "\t\n",
        "# All the changes made in the input image are finally\n",
        "# written on a new image houghlines.jpg\n",
        "cv2.imwrite('linesDetected.jpg', img)\n",
        "edges\n",
        "\n"
      ],
      "execution_count": 12,
      "outputs": [
        {
          "output_type": "execute_result",
          "data": {
            "text/plain": [
              "array([[0, 0, 0, ..., 0, 0, 0],\n",
              "       [0, 0, 0, ..., 0, 0, 0],\n",
              "       [0, 0, 0, ..., 0, 0, 0],\n",
              "       ...,\n",
              "       [0, 0, 0, ..., 0, 0, 0],\n",
              "       [0, 0, 0, ..., 0, 0, 0],\n",
              "       [0, 0, 0, ..., 0, 0, 0]], dtype=uint8)"
            ]
          },
          "metadata": {},
          "execution_count": 12
        }
      ]
    }
  ]
}