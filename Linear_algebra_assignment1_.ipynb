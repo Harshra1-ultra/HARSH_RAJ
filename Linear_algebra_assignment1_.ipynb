{
  "nbformat": 4,
  "nbformat_minor": 0,
  "metadata": {
    "colab": {
      "provenance": [],
      "authorship_tag": "ABX9TyNOzDId8ORcdx9L1dz/IJPK",
      "include_colab_link": true
    },
    "kernelspec": {
      "name": "python3",
      "display_name": "Python 3"
    },
    "language_info": {
      "name": "python"
    }
  },
  "cells": [
    {
      "cell_type": "markdown",
      "metadata": {
        "id": "view-in-github",
        "colab_type": "text"
      },
      "source": [
        "<a href=\"https://colab.research.google.com/github/Harshra1-ultra/HARSH_RAJ/blob/main/Linear_algebra_assignment1_.ipynb\" target=\"_parent\"><img src=\"https://colab.research.google.com/assets/colab-badge.svg\" alt=\"Open In Colab\"/></a>"
      ]
    },
    {
      "cell_type": "markdown",
      "source": [
        "**Question 1**"
      ],
      "metadata": {
        "id": "_6uZLno4RtK3"
      }
    },
    {
      "cell_type": "code",
      "execution_count": 1,
      "metadata": {
        "colab": {
          "base_uri": "https://localhost:8080/"
        },
        "id": "fU9pbPghQcNG",
        "outputId": "95bbab11-3b10-486a-c1a4-6770b6a6d028"
      },
      "outputs": [
        {
          "output_type": "stream",
          "name": "stdout",
          "text": [
            "Vector norms:\n",
            "one norm: 21 Two norm: 12.206555615733702 infinity norm: 8\n",
            "2 -norm: 12.206555615733702\n",
            "Inner product: 1\n"
          ]
        }
      ],
      "source": [
        "#import library\n",
        "import numpy as np\n",
        " \n",
        "# initialize vector\n",
        "x = [6,8,-7]\n",
        "# 1-norm\n",
        "one_norm= np.sum(np.abs(x))\n",
        "# compute norm of vector\n",
        "#two_norm =  np.sum((np.abs(x))**2)**0.5\n",
        "two_norm = np.linalg.norm(x)\n",
        "# infinit norm\n",
        "inf_norm = max(np.abs(x))\n",
        "\n",
        "print(\"Vector norms:\")\n",
        "print(\"one norm:\",one_norm,\"Two norm:\",two_norm,\"infinity norm:\",inf_norm)\n",
        "\n",
        "\n",
        "# Alternative method \n",
        "#norm function\n",
        "p=2  # change for the pth norm p=1 for 1-norm , p=2 for 2-norm , p=large norumber for infinity.\n",
        "pnorm = np.sum(np.abs(x)**p)**(1/p)\n",
        "print(p,\"-norm:\",pnorm)\n",
        "\n",
        "\n",
        "# inner product \n",
        "\n",
        "y=[-1,0,-1]\n",
        "\n",
        "inner_product = x[0]*y[0]+x[1]*y[1]+x[2]*y[2]\n",
        "print(\"Inner product:\", inner_product)"
      ]
    },
    {
      "cell_type": "markdown",
      "source": [
        "**Question 2**"
      ],
      "metadata": {
        "id": "ZjekcAnnTKM-"
      }
    },
    {
      "cell_type": "code",
      "source": [
        "# import numpy to perform operations on vector\n",
        "import numpy as np\n",
        "\n",
        "u = np.array([1, 2, 3]) # vector u\n",
        "v = np.array([5, 6, 2]) # vector v:\n",
        "\n",
        "# Task: Project vector u on vector v\n",
        "\n",
        "# finding norm of the vector v\n",
        "v_norm = np.sqrt(sum(v**2))\t\n",
        "\n",
        "# Apply the formula as mentioned above\n",
        "# for projecting a vector onto another vector\n",
        "# find dot product using np.dot()\n",
        "proj_of_u_on_v = (np.dot(u, v)/v_norm**2)*v\n",
        "\n",
        "print(\"Projection of Vector u on Vector v is: \", proj_of_u_on_v)\n",
        "\n",
        "\n",
        "\n",
        "#Alternative methods \n",
        "import numpy as np\n",
        "  \n",
        "# vector u \n",
        "u = np.array([1, 2, 3])       \n",
        "  \n",
        "# vector n: n is orthogonal vector to Plane P\n",
        "n = np.array([5, 6, 2])       \n",
        "   \n",
        "# Task: Project vector u on Plane P\n",
        "  \n",
        "# finding norm of the vector n \n",
        "n_norm = np.sqrt(sum(n**2))    \n",
        "   \n",
        "# Apply the formula as mentioned above\n",
        "# for projecting a vector onto the orthogonal vector n\n",
        "# find dot product using np.dot()\n",
        "proj_of_u_on_n = (np.dot(u, n)/n_norm**2)*n\n",
        "  \n",
        "# subtract proj_of_u_on_n from u: \n",
        "# this is the projection of u on Plane P\n",
        "print(\"Projection of Vector u on Plane P is: \", u - proj_of_u_on_n)"
      ],
      "metadata": {
        "colab": {
          "base_uri": "https://localhost:8080/"
        },
        "id": "tXYeaKgXTLpA",
        "outputId": "b20fa30c-839a-4023-b567-e4d88b74e5c4"
      },
      "execution_count": 2,
      "outputs": [
        {
          "output_type": "stream",
          "name": "stdout",
          "text": [
            "Projection of Vector u on Vector v is:  [1.76923077 2.12307692 0.70769231]\n",
            "Projection of Vector u on Plane P is:  [-0.76923077 -0.12307692  2.29230769]\n"
          ]
        }
      ]
    },
    {
      "cell_type": "markdown",
      "source": [
        "**Question 3**"
      ],
      "metadata": {
        "id": "3bSH9r4-UmK9"
      }
    },
    {
      "cell_type": "code",
      "source": [
        "import cv2\n",
        "import numpy as np\n",
        "import matplotlib.pyplot as plt\n",
        "\n",
        "img = cv2.imread('/content/1.png')\n",
        "# Converting the image into gray scale for faster computation.\n",
        "gray_image = cv2.cvtColor(img, cv2.COLOR_BGR2GRAY)\n",
        "\n",
        "# Calculating the SVD\n",
        "u, s, v = np.linalg.svd(gray_image, full_matrices=False)\n",
        "print(\"U=\",u,\"Sigma=\",s,\"V=\",v)\n",
        "\n",
        "# inspect shapes of the matrices\n",
        "print(f'u.shape:{u.shape},s.shape:{s.shape},v.shape:{v.shape}')\n"
      ],
      "metadata": {
        "colab": {
          "base_uri": "https://localhost:8080/"
        },
        "id": "VtWxaeoQUrat",
        "outputId": "a7b784db-f94b-4ef3-b180-59161a1eee9d"
      },
      "execution_count": 4,
      "outputs": [
        {
          "output_type": "stream",
          "name": "stdout",
          "text": [
            "U= [[-0.0646027  -0.10422615  0.01609388 ... -0.00644482 -0.00411192\n",
            "  -0.05476854]\n",
            " [-0.06480979 -0.10336505  0.0056603  ...  0.02812803  0.01358143\n",
            "   0.07509169]\n",
            " [-0.06438742 -0.10261514  0.00443749 ... -0.00375214 -0.02244147\n",
            "  -0.04196043]\n",
            " ...\n",
            " [-0.08515201  0.05373045 -0.01825328 ... -0.20489903 -0.09028179\n",
            "  -0.09461649]\n",
            " [-0.08522791  0.05389454 -0.01871923 ... -0.0373889   0.14663745\n",
            "   0.00546239]\n",
            " [-0.08517381  0.05481958 -0.02069997 ...  0.11981457  0.12646254\n",
            "  -0.00190745]] Sigma= [2.95335793e+04 7.84514205e+03 3.65675293e+03 2.97432372e+03\n",
            " 2.33028363e+03 1.81302701e+03 1.50149982e+03 1.38687070e+03\n",
            " 1.23718337e+03 1.12507053e+03 1.05189368e+03 1.02452988e+03\n",
            " 9.15577970e+02 8.67704583e+02 8.30282276e+02 7.79551179e+02\n",
            " 7.45055984e+02 7.10751854e+02 6.87960371e+02 6.77945791e+02\n",
            " 6.52634439e+02 6.28808536e+02 6.03856842e+02 5.73410700e+02\n",
            " 5.66269557e+02 5.42977677e+02 5.35013879e+02 5.22472572e+02\n",
            " 5.00019546e+02 4.94984899e+02 4.87606526e+02 4.78520497e+02\n",
            " 4.29245047e+02 4.18117554e+02 4.09708915e+02 3.99341241e+02\n",
            " 3.87663123e+02 3.81575562e+02 3.65187534e+02 3.63683742e+02\n",
            " 3.56589384e+02 3.49913673e+02 3.41185873e+02 3.28193604e+02\n",
            " 3.20792614e+02 3.17534809e+02 3.08422592e+02 3.05892394e+02\n",
            " 2.99472570e+02 2.91933856e+02 2.90808084e+02 2.78114394e+02\n",
            " 2.75824475e+02 2.71038786e+02 2.57970653e+02 2.55743832e+02\n",
            " 2.48678469e+02 2.47698565e+02 2.35480656e+02 2.33343104e+02\n",
            " 2.31570508e+02 2.29496217e+02 2.26455338e+02 2.17824654e+02\n",
            " 2.13649063e+02 2.12356829e+02 2.05740431e+02 2.01976802e+02\n",
            " 1.97352284e+02 1.96304327e+02 1.92732103e+02 1.91118176e+02\n",
            " 1.86667876e+02 1.83547431e+02 1.83202277e+02 1.81235493e+02\n",
            " 1.75584492e+02 1.73534302e+02 1.70218469e+02 1.67258987e+02\n",
            " 1.65064850e+02 1.61698272e+02 1.58470293e+02 1.56653074e+02\n",
            " 1.53095651e+02 1.52736471e+02 1.48173334e+02 1.46203897e+02\n",
            " 1.43014760e+02 1.42532821e+02 1.38997525e+02 1.37360079e+02\n",
            " 1.34598841e+02 1.33194777e+02 1.30357728e+02 1.28707005e+02\n",
            " 1.26661470e+02 1.23789736e+02 1.22622071e+02 1.21216004e+02\n",
            " 1.18435243e+02 1.16002572e+02 1.14867700e+02 1.12832065e+02\n",
            " 1.10883372e+02 1.10159349e+02 1.06996726e+02 1.06492116e+02\n",
            " 1.05700229e+02 1.01034433e+02 1.00193409e+02 9.87570912e+01\n",
            " 9.76564261e+01 9.49798532e+01 9.43512981e+01 9.19827100e+01\n",
            " 9.08915123e+01 8.98146633e+01 8.89649950e+01 8.58999652e+01\n",
            " 8.53611543e+01 8.32689408e+01 8.27658262e+01 8.23873998e+01\n",
            " 8.08458914e+01 7.84966806e+01 7.77491666e+01 7.69549488e+01\n",
            " 7.61172337e+01 7.41790667e+01 7.29661438e+01 7.14116306e+01\n",
            " 7.02087321e+01 6.93970214e+01 6.77282090e+01 6.64314809e+01\n",
            " 6.53647699e+01 6.32485546e+01 6.19203960e+01 6.10614958e+01\n",
            " 6.01763063e+01 5.97853459e+01 5.78267426e+01 5.70799768e+01\n",
            " 5.62262071e+01 5.53965422e+01 5.45721237e+01 5.32287461e+01\n",
            " 5.29521854e+01 5.14706720e+01 5.08732737e+01 5.02169865e+01\n",
            " 4.98215689e+01 4.85474408e+01 4.82241827e+01 4.62379621e+01\n",
            " 4.53228449e+01 4.46498831e+01 4.39767782e+01 4.37980118e+01\n",
            " 4.32159035e+01 4.29009770e+01 4.18629526e+01 4.06940449e+01\n",
            " 4.00314759e+01 3.92537604e+01 3.82317116e+01 3.78728952e+01\n",
            " 3.63710534e+01 3.55093452e+01 3.52084598e+01 3.43359716e+01\n",
            " 3.38040598e+01 3.32602776e+01 3.24370095e+01 3.21870921e+01\n",
            " 3.15408458e+01 3.04224241e+01 3.00671338e+01 2.96969223e+01\n",
            " 2.91467300e+01 2.89614032e+01 2.85378795e+01 2.78130179e+01\n",
            " 2.71129069e+01 2.67405255e+01 2.62851610e+01 2.58045096e+01\n",
            " 2.47935596e+01 2.47065459e+01 2.40508675e+01 2.38880134e+01\n",
            " 2.33933454e+01 2.25179326e+01 2.23100464e+01 2.15883356e+01\n",
            " 2.10942592e+01 2.02022700e+01 1.98111996e+01 1.97281536e+01\n",
            " 1.96205792e+01 1.90618774e+01 1.81951673e+01 1.81260107e+01\n",
            " 1.77669624e+01 1.69248466e+01 1.68959503e+01 1.65380931e+01\n",
            " 1.61294813e+01 1.53322134e+01 1.51113836e+01 1.49824531e+01\n",
            " 1.45277510e+01 1.39994890e+01 1.35324537e+01 1.30418488e+01\n",
            " 1.26443150e+01 1.21140130e+01 1.19838948e+01 1.16930730e+01\n",
            " 1.15845624e+01 1.08231197e+01 1.05485044e+01 1.02745128e+01\n",
            " 9.75820117e+00 9.35432567e+00 9.21322291e+00 8.60045824e+00\n",
            " 8.32884985e+00 8.13654634e+00 7.78730071e+00 7.41306784e+00\n",
            " 7.02636289e+00 6.83689310e+00 6.34757844e+00 6.08256514e+00\n",
            " 5.89771984e+00 5.36247844e+00 4.94081393e+00 4.79738606e+00\n",
            " 4.61956177e+00 4.03881024e+00 3.86997890e+00 3.45233952e+00\n",
            " 3.11118218e+00 2.61636928e+00 2.54831508e+00 2.38684475e+00\n",
            " 2.04872363e+00 1.83989854e+00 1.44967530e+00 1.28269693e+00\n",
            " 9.94337952e-01 7.86411244e-01 4.47330508e-01 3.27344438e-01] V= [[-0.06549199 -0.06582559 -0.06640721 ... -0.04472951 -0.04457574\n",
            "  -0.04485498]\n",
            " [-0.02641102 -0.02740427 -0.02799212 ...  0.08109409  0.07976703\n",
            "   0.07786821]\n",
            " [ 0.08327289  0.08507182  0.08706128 ...  0.00497812  0.00806404\n",
            "   0.00675238]\n",
            " ...\n",
            " [-0.04882356  0.05162824 -0.06886777 ... -0.11008613  0.07273556\n",
            "  -0.04758021]\n",
            " [-0.06543016 -0.05867216  0.11696275 ... -0.05907248  0.06815123\n",
            "  -0.02808069]\n",
            " [-0.04185215 -0.01148655  0.04068942 ... -0.10000351 -0.02615246\n",
            "  -0.02644734]]\n",
            "u.shape:(256, 256),s.shape:(256,),v.shape:(256, 256)\n"
          ]
        }
      ]
    },
    {
      "cell_type": "markdown",
      "source": [
        "**Question 4**"
      ],
      "metadata": {
        "id": "eSDtPotZTfIF"
      }
    },
    {
      "cell_type": "code",
      "source": [
        "\n",
        "import numpy as np\n",
        "#from scipy import optimize\n",
        "import matplotlib.pyplot as plt\n",
        "\n",
        "#plt.style.use('seaborn-poster')\n",
        "\n",
        "# generate x and y\n",
        "x = np.linspace(0, 1, 101)\n",
        "y = 1 + x + x * np.random.random(len(x))\n",
        "\n",
        "\n",
        "# assemble matrix A\n",
        "A = np.vstack([x, np.ones(len(x))]).T\n",
        "\n",
        "# turn y into a column vector\n",
        "y = y[:, np.newaxis]\n",
        "\n",
        "# Direct least square solution\n",
        "alpha = np.dot((np.dot(np.linalg.inv(np.dot(A.T,A)),A.T)),y)\n",
        "print(alpha)\n",
        "\n",
        "# plot the results\n",
        "plt.figure(figsize = (10,8))\n",
        "plt.plot(x, y, 'b.')\n",
        "plt.plot(x, alpha[0]*x + alpha[1], 'r')\n",
        "plt.xlabel('x')\n",
        "plt.ylabel('y')\n",
        "plt.show()\n",
        "\n",
        "# (A^T*A)^(−1)A^T is called the pseudo-inverse, therefore, we could use the pinv function in numpy to directly calculate it.\n",
        "\n",
        "\n",
        "pinv = np.linalg.pinv(A)\n",
        "alpha = pinv.dot(y)\n",
        "print(alpha)"
      ],
      "metadata": {
        "colab": {
          "base_uri": "https://localhost:8080/",
          "height": 566
        },
        "id": "0tIJi8DMUVg1",
        "outputId": "bb6d769e-f513-4f74-ce12-4357aed8c838"
      },
      "execution_count": 3,
      "outputs": [
        {
          "output_type": "stream",
          "name": "stdout",
          "text": [
            "[[1.56095038]\n",
            " [0.98897592]]\n"
          ]
        },
        {
          "output_type": "display_data",
          "data": {
            "text/plain": [
              "<Figure size 720x576 with 1 Axes>"
            ],
            "image/png": "[encoded data removed]"
          },
          "metadata": {
            "needs_background": "light"
          }
        },
        {
          "output_type": "stream",
          "name": "stdout",
          "text": [
            "[[1.56095038]\n",
            " [0.98897592]]\n"
          ]
        }
      ]
    }
  ]
}